{
 "cells": [
  {
   "cell_type": "code",
   "execution_count": 1,
   "id": "a75ac2db-2c4c-4323-ab65-27bfa3038872",
   "metadata": {},
   "outputs": [],
   "source": [
    "import pandas as pd"
   ]
  },
  {
   "cell_type": "markdown",
   "id": "bd9f2faa-797d-4846-bc8c-bf54b2f4aa0b",
   "metadata": {},
   "source": [
    "# <u>Creating Series DataStructure</u> "
   ]
  },
  {
   "cell_type": "markdown",
   "id": "075144a4-9214-4d38-833b-021ae0ee9878",
   "metadata": {},
   "source": [
    "### **Using List**"
   ]
  },
  {
   "cell_type": "code",
   "execution_count": 4,
   "id": "60f3ee07-19ac-4667-95ef-0fd601cea7b3",
   "metadata": {},
   "outputs": [],
   "source": [
    "students=[\"hanan\",\"Ravi\",\"Janu\"]"
   ]
  },
  {
   "cell_type": "code",
   "execution_count": 5,
   "id": "165cbabb-54ea-4982-b0b8-e24148291f40",
   "metadata": {},
   "outputs": [
    {
     "data": {
      "text/plain": [
       "0    hanan\n",
       "1     Ravi\n",
       "2     Janu\n",
       "dtype: object"
      ]
     },
     "execution_count": 5,
     "metadata": {},
     "output_type": "execute_result"
    }
   ],
   "source": [
    "pd.Series(students)"
   ]
  },
  {
   "cell_type": "code",
   "execution_count": 6,
   "id": "f7562e26-c9c6-4808-a207-0f6f7490bd9d",
   "metadata": {},
   "outputs": [],
   "source": [
    "num=[1,2,3]"
   ]
  },
  {
   "cell_type": "code",
   "execution_count": 7,
   "id": "359db33f-69be-4ea6-ac45-3fffb8aea19e",
   "metadata": {},
   "outputs": [
    {
     "data": {
      "text/plain": [
       "0    1\n",
       "1    2\n",
       "2    3\n",
       "dtype: int64"
      ]
     },
     "execution_count": 7,
     "metadata": {},
     "output_type": "execute_result"
    }
   ],
   "source": [
    "pd.Series(num)"
   ]
  },
  {
   "cell_type": "markdown",
   "id": "353bf0ce-f3fd-4392-bc2e-4b0c1a91636d",
   "metadata": {},
   "source": [
    "### **Using Dictionary**"
   ]
  },
  {
   "cell_type": "code",
   "execution_count": 9,
   "id": "8014a96e-6e8f-4b3f-92f7-2e9a5e85941f",
   "metadata": {},
   "outputs": [],
   "source": [
    "marks={\"Alice\":30,\"john\":50,\"mary\":45}"
   ]
  },
  {
   "cell_type": "code",
   "execution_count": 10,
   "id": "d89b5746-63b8-49f5-b21c-607b1a992622",
   "metadata": {},
   "outputs": [
    {
     "data": {
      "text/plain": [
       "Alice    30\n",
       "john     50\n",
       "mary     45\n",
       "dtype: int64"
      ]
     },
     "execution_count": 10,
     "metadata": {},
     "output_type": "execute_result"
    }
   ],
   "source": [
    "mark=pd.Series(marks)\n",
    "mark"
   ]
  },
  {
   "cell_type": "code",
   "execution_count": 11,
   "id": "b506330c-8136-4607-8d9b-aaeec75f360c",
   "metadata": {},
   "outputs": [
    {
     "data": {
      "text/plain": [
       "Index(['Alice', 'john', 'mary'], dtype='object')"
      ]
     },
     "execution_count": 11,
     "metadata": {},
     "output_type": "execute_result"
    }
   ],
   "source": [
    "mark.index"
   ]
  },
  {
   "cell_type": "markdown",
   "id": "477ae48f-923c-4ae0-948d-344daf780307",
   "metadata": {},
   "source": [
    "### **Using List of Tuples**"
   ]
  },
  {
   "cell_type": "code",
   "execution_count": 13,
   "id": "3533eb31-f0f6-43f3-ad8d-c6a910f29d64",
   "metadata": {},
   "outputs": [],
   "source": [
    "students=[(\"alice\",\"brown\"),(\"hanan\",\"yellow\"),(\"ram\",\"white\")]"
   ]
  },
  {
   "cell_type": "code",
   "execution_count": 14,
   "id": "d2a3f76e-19e7-4c1e-8dc6-709085fade42",
   "metadata": {},
   "outputs": [
    {
     "data": {
      "text/plain": [
       "0     (alice, brown)\n",
       "1    (hanan, yellow)\n",
       "2       (ram, white)\n",
       "dtype: object"
      ]
     },
     "execution_count": 14,
     "metadata": {},
     "output_type": "execute_result"
    }
   ],
   "source": [
    "pd.Series(students)"
   ]
  },
  {
   "cell_type": "markdown",
   "id": "1c4e9659-faaf-4ecb-9702-b256ad1b02a1",
   "metadata": {},
   "source": [
    "### **Using Direct Substitution**"
   ]
  },
  {
   "cell_type": "code",
   "execution_count": 16,
   "id": "f44c985d-e959-4b3c-bff0-6e2681ba1fde",
   "metadata": {},
   "outputs": [
    {
     "data": {
      "text/plain": [
       "alice    30\n",
       "ram      50\n",
       "sam      45\n",
       "dtype: int64"
      ]
     },
     "execution_count": 16,
     "metadata": {},
     "output_type": "execute_result"
    }
   ],
   "source": [
    "s=pd.Series([30,50,45],index=[\"alice\",\"ram\",\"sam\"])\n",
    "s"
   ]
  },
  {
   "cell_type": "markdown",
   "id": "5d37446b-66da-4a08-97ca-d7b8c64719c4",
   "metadata": {},
   "source": [
    "## *None As a Data*"
   ]
  },
  {
   "cell_type": "code",
   "execution_count": 18,
   "id": "4eb485ae-d033-4f0a-84f3-7655a96e14c1",
   "metadata": {},
   "outputs": [],
   "source": [
    "students=[\"hanan\",\"ravi\",None]"
   ]
  },
  {
   "cell_type": "code",
   "execution_count": 19,
   "id": "e0b81bdf-1f5a-408b-9cad-4807d6863602",
   "metadata": {},
   "outputs": [
    {
     "data": {
      "text/plain": [
       "0    hanan\n",
       "1     ravi\n",
       "2     None\n",
       "dtype: object"
      ]
     },
     "execution_count": 19,
     "metadata": {},
     "output_type": "execute_result"
    }
   ],
   "source": [
    "pd.Series(students)"
   ]
  },
  {
   "cell_type": "code",
   "execution_count": 20,
   "id": "3cb22e24-71db-4396-9fce-744831127b60",
   "metadata": {},
   "outputs": [],
   "source": [
    "num=[1,2,None]"
   ]
  },
  {
   "cell_type": "code",
   "execution_count": 21,
   "id": "6c36ab4a-f87b-4bd0-8bba-c1e674d0dd3f",
   "metadata": {},
   "outputs": [
    {
     "data": {
      "text/plain": [
       "0    1.0\n",
       "1    2.0\n",
       "2    NaN\n",
       "dtype: float64"
      ]
     },
     "execution_count": 21,
     "metadata": {},
     "output_type": "execute_result"
    }
   ],
   "source": [
    "pd.Series(num)"
   ]
  },
  {
   "cell_type": "markdown",
   "id": "ef1cd19d-d88b-43ab-8aa3-b8cad044c4db",
   "metadata": {},
   "source": [
    "* NaN is a special floating point value(Not a Number) \n",
    "* Only for list of Numbers "
   ]
  },
  {
   "cell_type": "markdown",
   "id": "4e3751d8-ba26-4c96-befb-8c6253eb6179",
   "metadata": {},
   "source": [
    "## *Missing Data*"
   ]
  },
  {
   "cell_type": "code",
   "execution_count": 24,
   "id": "3f1913e3-4010-4ac6-b812-5008a056e554",
   "metadata": {},
   "outputs": [],
   "source": [
    "marks={\"Alice\":30,\"john\":50,\"mary\":45}"
   ]
  },
  {
   "cell_type": "code",
   "execution_count": 25,
   "id": "6d46e425-96dd-43d8-9fd3-89853e039f8b",
   "metadata": {},
   "outputs": [
    {
     "data": {
      "text/plain": [
       "Alice    30.0\n",
       "Sam       NaN\n",
       "mary     45.0\n",
       "dtype: float64"
      ]
     },
     "execution_count": 25,
     "metadata": {},
     "output_type": "execute_result"
    }
   ],
   "source": [
    "s=pd.Series(marks, index=[\"Alice\",\"Sam\",\"mary\"])\n",
    "s"
   ]
  },
  {
   "cell_type": "markdown",
   "id": "124b6eb2-8188-4a85-9cab-0f7899fbb354",
   "metadata": {},
   "source": [
    "* NaN for Missing Data"
   ]
  },
  {
   "cell_type": "markdown",
   "id": "37d6a24f-2f30-4d79-a56a-13bcf3346060",
   "metadata": {},
   "source": [
    "# <u>Querying Series </u>"
   ]
  },
  {
   "cell_type": "markdown",
   "id": "4062fb90-a19b-44e0-81fb-b87fde4c1ab7",
   "metadata": {},
   "source": [
    "## **Locating data**"
   ]
  },
  {
   "cell_type": "code",
   "execution_count": 28,
   "id": "022d5ac0-da8c-4d69-a6cd-64258be5e02e",
   "metadata": {},
   "outputs": [
    {
     "data": {
      "text/plain": [
       "sam        physics\n",
       "molly    chemistry\n",
       "Ram          Maths\n",
       "dtype: object"
      ]
     },
     "execution_count": 28,
     "metadata": {},
     "output_type": "execute_result"
    }
   ],
   "source": [
    "r=pd.Series([\"physics\",\"chemistry\",\"Maths\"],index=[\"sam\",\"molly\",\"Ram\"])\n",
    "r"
   ]
  },
  {
   "cell_type": "markdown",
   "id": "8a6fcf37-636f-47de-92b8-aa5c6aacce0b",
   "metadata": {},
   "source": [
    "* iloc used to locate using index value "
   ]
  },
  {
   "cell_type": "code",
   "execution_count": 30,
   "id": "a7e4541f-39ee-4751-b9c9-bb941f344a20",
   "metadata": {},
   "outputs": [
    {
     "data": {
      "text/plain": [
       "'Maths'"
      ]
     },
     "execution_count": 30,
     "metadata": {},
     "output_type": "execute_result"
    }
   ],
   "source": [
    "r.iloc[2]"
   ]
  },
  {
   "cell_type": "markdown",
   "id": "f7186665-9bfe-4621-8762-963970e23ded",
   "metadata": {},
   "source": [
    "* loc is used to locate using index name"
   ]
  },
  {
   "cell_type": "code",
   "execution_count": 32,
   "id": "0cd8b00c-a6cb-4d81-bc32-1dd36ca7ae4e",
   "metadata": {},
   "outputs": [
    {
     "data": {
      "text/plain": [
       "'chemistry'"
      ]
     },
     "execution_count": 32,
     "metadata": {},
     "output_type": "execute_result"
    }
   ],
   "source": [
    "r.loc[\"molly\"]"
   ]
  },
  {
   "cell_type": "markdown",
   "id": "e320de2a-e397-4c49-a7ff-719c860b60e5",
   "metadata": {},
   "source": [
    "* Only possible for index names\n",
    "* Can't handle Number in Square Bracket"
   ]
  },
  {
   "cell_type": "code",
   "execution_count": 34,
   "id": "81f3efa5-e5d0-431a-bd79-8de08539287d",
   "metadata": {},
   "outputs": [
    {
     "data": {
      "text/plain": [
       "'chemistry'"
      ]
     },
     "execution_count": 34,
     "metadata": {},
     "output_type": "execute_result"
    }
   ],
   "source": [
    "r[\"molly\"]"
   ]
  },
  {
   "cell_type": "markdown",
   "id": "82c1a6af-63ff-4d25-b2ab-767c8840cc90",
   "metadata": {},
   "source": [
    "### **Operations Using Series**"
   ]
  },
  {
   "cell_type": "code",
   "execution_count": 36,
   "id": "8d519151-66ec-4bba-a699-def60d978956",
   "metadata": {},
   "outputs": [],
   "source": [
    "import numpy as np"
   ]
  },
  {
   "cell_type": "code",
   "execution_count": 37,
   "id": "58f64375-c83b-4996-ada5-c2412073d1bb",
   "metadata": {},
   "outputs": [],
   "source": [
    "grades=pd.Series([30,60,99,38,46])"
   ]
  },
  {
   "cell_type": "code",
   "execution_count": 38,
   "id": "69cafe0c-d138-4dcd-860e-59fc91982d57",
   "metadata": {
    "scrolled": true
   },
   "outputs": [
    {
     "data": {
      "text/plain": [
       "np.float64(54.6)"
      ]
     },
     "execution_count": 38,
     "metadata": {},
     "output_type": "execute_result"
    }
   ],
   "source": [
    "np.mean(grades)"
   ]
  },
  {
   "cell_type": "markdown",
   "id": "bc6d996b-a58e-4c97-8bc4-f9711697e2c9",
   "metadata": {},
   "source": [
    "* Vectorisation is done here(No loops used for operations)"
   ]
  },
  {
   "cell_type": "code",
   "execution_count": 82,
   "id": "95bbc5c4-e8c4-476e-9ce9-21bff1fca8d8",
   "metadata": {},
   "outputs": [
    {
     "data": {
      "text/plain": [
       "0     54\n",
       "1     93\n",
       "2      1\n",
       "3     57\n",
       "4     77\n",
       "      ..\n",
       "95    30\n",
       "96    86\n",
       "97     4\n",
       "98    20\n",
       "99    98\n",
       "Length: 100, dtype: int32"
      ]
     },
     "execution_count": 82,
     "metadata": {},
     "output_type": "execute_result"
    }
   ],
   "source": [
    "m=pd.Series(np.random.randint(1,100,100))\n",
    "m"
   ]
  },
  {
   "cell_type": "code",
   "execution_count": 72,
   "id": "69303b8b-3d74-494c-bfd2-6c882f3b3266",
   "metadata": {},
   "outputs": [
    {
     "name": "stdout",
     "output_type": "stream",
     "text": [
      "129 μs ± 15.9 μs per loop (mean ± std. dev. of 7 runs, 10 loops each)\n"
     ]
    }
   ],
   "source": [
    "%%timeit -n 10\n",
    "l=pd.Series([4,7,9,6])"
   ]
  },
  {
   "cell_type": "markdown",
   "id": "1234f695-e901-44d0-8e74-f29d7aa4fe43",
   "metadata": {},
   "source": [
    "* **%%timeit -n 10** is used to find the running time of the code"
   ]
  },
  {
   "cell_type": "code",
   "execution_count": 74,
   "id": "eddb630e-1600-4d0c-a5b6-4bb39a0f7a6f",
   "metadata": {},
   "outputs": [
    {
     "data": {
      "text/plain": [
       "0     8\n",
       "1    11\n",
       "2    13\n",
       "3    10\n",
       "dtype: int64"
      ]
     },
     "execution_count": 74,
     "metadata": {},
     "output_type": "execute_result"
    }
   ],
   "source": [
    "l+=2\n",
    "l"
   ]
  },
  {
   "cell_type": "markdown",
   "id": "0e03c1cc-03cb-4f73-8536-4fdb370d6c4f",
   "metadata": {},
   "source": [
    "* **Broadcasting** (Performing Operations on every element seperately )"
   ]
  },
  {
   "cell_type": "markdown",
   "id": "7afb6b2f-fcf8-42ca-8597-340dfb4f5c17",
   "metadata": {},
   "source": [
    "## **Adding New data**"
   ]
  },
  {
   "cell_type": "code",
   "execution_count": 101,
   "id": "de69a66c-27a4-4498-843e-831a5c300f8b",
   "metadata": {},
   "outputs": [],
   "source": [
    "f=pd.Series([1,2,4,3])"
   ]
  },
  {
   "cell_type": "code",
   "execution_count": 103,
   "id": "02eb748e-ed4a-4e06-99df-e689b048dc06",
   "metadata": {},
   "outputs": [],
   "source": [
    "f.loc[\"game\"]=5"
   ]
  },
  {
   "cell_type": "code",
   "execution_count": 105,
   "id": "42d3ac68-c1ec-4c5f-8bb0-6ee3776f83f1",
   "metadata": {},
   "outputs": [
    {
     "data": {
      "text/plain": [
       "0       1\n",
       "1       2\n",
       "2       4\n",
       "3       3\n",
       "game    5\n",
       "dtype: int64"
      ]
     },
     "execution_count": 105,
     "metadata": {},
     "output_type": "execute_result"
    }
   ],
   "source": [
    "f"
   ]
  },
  {
   "cell_type": "markdown",
   "id": "f35f4425-157f-4650-9e0d-e821ed81831f",
   "metadata": {},
   "source": [
    "## **Merge two Series**"
   ]
  },
  {
   "cell_type": "code",
   "execution_count": 115,
   "id": "a2273f18-0c03-459b-ad0a-62f6ce49e70c",
   "metadata": {},
   "outputs": [],
   "source": [
    "w=pd.Series({\"ram\":\"physics\",\"yanu\":\"chem\",\"manu\":\"maths\"})"
   ]
  },
  {
   "cell_type": "code",
   "execution_count": 117,
   "id": "254855e9-f7ba-42bc-9068-e97a0bd577c8",
   "metadata": {},
   "outputs": [],
   "source": [
    "k=pd.Series([\"physics\",\"maths\",\"english\"],index=[\"kell\",\"kell\",\"kell\"])"
   ]
  },
  {
   "cell_type": "code",
   "execution_count": 123,
   "id": "0a4a57e1-3b3e-4fc4-8937-81e80b9fcb12",
   "metadata": {},
   "outputs": [
    {
     "data": {
      "text/plain": [
       "ram     physics\n",
       "yanu       chem\n",
       "manu      maths\n",
       "kell    physics\n",
       "kell      maths\n",
       "kell    english\n",
       "dtype: object"
      ]
     },
     "execution_count": 123,
     "metadata": {},
     "output_type": "execute_result"
    }
   ],
   "source": [
    "h=pd.concat([w,k])\n",
    "h"
   ]
  },
  {
   "cell_type": "code",
   "execution_count": 129,
   "id": "c05c159c-800a-49bd-ac2b-561dc5566bb1",
   "metadata": {},
   "outputs": [
    {
     "data": {
      "text/plain": [
       "kell    physics\n",
       "kell      maths\n",
       "kell    english\n",
       "dtype: object"
      ]
     },
     "execution_count": 129,
     "metadata": {},
     "output_type": "execute_result"
    }
   ],
   "source": [
    "h[\"kell\"]"
   ]
  }
 ],
 "metadata": {
  "kernelspec": {
   "display_name": "Python 3 (ipykernel)",
   "language": "python",
   "name": "python3"
  },
  "language_info": {
   "codemirror_mode": {
    "name": "ipython",
    "version": 3
   },
   "file_extension": ".py",
   "mimetype": "text/x-python",
   "name": "python",
   "nbconvert_exporter": "python",
   "pygments_lexer": "ipython3",
   "version": "3.11.5"
  }
 },
 "nbformat": 4,
 "nbformat_minor": 5
}
